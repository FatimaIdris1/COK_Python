{
 "cells": [
  {
   "cell_type": "markdown",
   "id": "7af1ec32-e580-45c2-a173-ca79a04fb2c0",
   "metadata": {},
   "source": [
    "## Day 1"
   ]
  },
  {
   "cell_type": "markdown",
   "id": "66617b2a-1ab8-4ff5-97f5-1856a048023b",
   "metadata": {},
   "source": [
    "#### ONE-DIMENSIONAL ARRAY"
   ]
  },
  {
   "cell_type": "code",
   "execution_count": 2,
   "id": "ab43c345-8a0b-4334-a2ea-772b7a008a53",
   "metadata": {},
   "outputs": [],
   "source": [
    "import numpy as np"
   ]
  },
  {
   "cell_type": "code",
   "execution_count": 3,
   "id": "88d1b611-13e0-4d06-99c6-fa5e61caa60e",
   "metadata": {},
   "outputs": [
    {
     "data": {
      "text/plain": [
       "36.0"
      ]
     },
     "execution_count": 3,
     "metadata": {},
     "output_type": "execute_result"
    }
   ],
   "source": [
    "#Question 1\n",
    "patient_age_array = np.array([25, 30, 40, 22, 35, 50, 29, 60, 41, 28])\n",
    "\n",
    "#Find the average age of the patients\n",
    "np.mean(patient_age_array)"
   ]
  },
  {
   "cell_type": "code",
   "execution_count": 4,
   "id": "203df1fa-74e6-441e-960c-bd19d8468597",
   "metadata": {},
   "outputs": [
    {
     "data": {
      "text/plain": [
       "300"
      ]
     },
     "execution_count": 4,
     "metadata": {},
     "output_type": "execute_result"
    }
   ],
   "source": [
    "#Question 2\n",
    "cholestorol_level = np.array([210, 180, 230, 250, 300, 220, 200, 190])\n",
    "\n",
    "#Identify the highest cholesterol level from the list\n",
    "np.max(cholestorol_level)"
   ]
  },
  {
   "cell_type": "code",
   "execution_count": 5,
   "id": "eed87651-7232-43e7-bfd6-d93fe2645e6b",
   "metadata": {},
   "outputs": [
    {
     "data": {
      "text/plain": [
       "11.055415967851333"
      ]
     },
     "execution_count": 5,
     "metadata": {},
     "output_type": "execute_result"
    }
   ],
   "source": [
    "#Question 3\n",
    "bp_reading = np.array([120, 130, 140, 135, 125, 110, 145, 120, 130, 140, 150, 135])\n",
    "\n",
    "#Find the standard deviation of blood pressure readings\n",
    "np.std(bp_reading)"
   ]
  },
  {
   "cell_type": "code",
   "execution_count": 6,
   "id": "cf48b331-c30f-468e-8bac-dc07751f26ee",
   "metadata": {},
   "outputs": [
    {
     "data": {
      "text/plain": [
       "37.1"
      ]
     },
     "execution_count": 6,
     "metadata": {},
     "output_type": "execute_result"
    }
   ],
   "source": [
    "#Question 4\n",
    "patient_temp = np.array([37.1, 36.5, 37.3, 36.8, 37.0, 38.0, 36.7, 37.2, 36.9, 37.5])\n",
    "\n",
    "#Calculate the mean temperature for the patient\n",
    "np.mean(patient_temp)"
   ]
  },
  {
   "cell_type": "code",
   "execution_count": 7,
   "id": "5c574225-fef1-4e34-b1c0-79fea8514dd1",
   "metadata": {},
   "outputs": [
    {
     "data": {
      "text/plain": [
       "array([80, 66, 68, 70, 75, 82, 58, 65, 72, 60])"
      ]
     },
     "execution_count": 7,
     "metadata": {},
     "output_type": "execute_result"
    }
   ],
   "source": [
    "#Question 5\n",
    "patient_weight = np.array([60, 72, 65, 58, 82, 75, 70, 68, 66, 80])\n",
    "\n",
    "#Return the reversed order of weights\n",
    "reverse_weight = patient_weight[::-1]\n",
    "reverse_weight"
   ]
  },
  {
   "cell_type": "markdown",
   "id": "3a94f530-5998-4dc7-bdd7-6d35eabf9c4d",
   "metadata": {},
   "source": [
    "#### TWO DIMENSIONAL ARRAY"
   ]
  },
  {
   "cell_type": "code",
   "execution_count": 9,
   "id": "93f652f3-a637-428f-b71b-87afbc6ae831",
   "metadata": {},
   "outputs": [
    {
     "data": {
      "text/plain": [
       "130"
      ]
     },
     "execution_count": 9,
     "metadata": {},
     "output_type": "execute_result"
    }
   ],
   "source": [
    "# Question 6\n",
    "patient_data = np.array([[25, 70, 120],\n",
    "                        [30, 80, 130],\n",
    "                        [40, 85, 140]])\n",
    "\n",
    "#Access the blood pressure of the second patient (use index)\n",
    "patient_data[1,-1]"
   ]
  },
  {
   "cell_type": "code",
   "execution_count": 58,
   "id": "85f65508-6c6e-4134-8a17-2e1d25be7b53",
   "metadata": {},
   "outputs": [
    {
     "data": {
      "text/plain": [
       "array([24.7, 25.7, 25. , 24.8])"
      ]
     },
     "execution_count": 58,
     "metadata": {},
     "output_type": "execute_result"
    }
   ],
   "source": [
    "#Question 10\n",
    "blood_tests = np.array([[5.6, 7.1, 6.2, 5.8],\n",
    "[5.3, 6.9, 7.0, 6.5],\n",
    "[5.7, 6.5, 6.8, 6.0],\n",
    "[5.4, 7.0, 6.5, 5.9]])\n",
    "\n",
    "\n",
    "#The sum of values across each row (representing total test results for each patient)\n",
    "sum_bloodtests = np.sum(blood_tests, axis = 1)\n",
    "sum_bloodtests"
   ]
  },
  {
   "cell_type": "code",
   "execution_count": 12,
   "id": "f9e0e6e5-d4c7-4fb4-8059-8ed8c3ad4d5e",
   "metadata": {},
   "outputs": [
    {
     "data": {
      "text/plain": [
       "88.53333333333333"
      ]
     },
     "execution_count": 12,
     "metadata": {},
     "output_type": "execute_result"
    }
   ],
   "source": [
    "#Question 15\n",
    "patient_sugar = np.array([[80, 85, 90],\n",
    "[95, 92, 88],\n",
    "[85, 83, 82],\n",
    "[100, 105, 110],\n",
    "[75, 78, 80]])\n",
    "\n",
    "\n",
    "#Find the average blood sugar level for the 3rd patient across all visits\n",
    "average_sugar = np.mean(patient_sugar)\n",
    "average_sugar"
   ]
  },
  {
   "cell_type": "code",
   "execution_count": 59,
   "id": "aef07b38-2350-436b-980e-13a4031d0aed",
   "metadata": {},
   "outputs": [
    {
     "data": {
      "text/plain": [
       "array([[60],\n",
       "       [70],\n",
       "       [80]])"
      ]
     },
     "execution_count": 59,
     "metadata": {},
     "output_type": "execute_result"
    }
   ],
   "source": [
    "#Question 21\n",
    "BMI = np.array([\n",
    "    [22.1, 23.5],\n",
    "    [27.8, 28.0],\n",
    "    [21.2, 20.9]\n",
    "])\n",
    "# Perform the element-wise multiplication of BMI and weight (use a weight array: [60, 70, 80])\n",
    "\n",
    "Weight = np.array([60, 70, 80]).reshape(-1, 1)  # Reshape to column vector\n",
    "\n",
    "# Element-wise multiplication\n",
    "result = BMI * Weight\n",
    "result"
   ]
  },
  {
   "cell_type": "code",
   "execution_count": 15,
   "id": "a869c499-71bf-48e4-ac5d-86023a9dc9e2",
   "metadata": {},
   "outputs": [
    {
     "name": "stdout",
     "output_type": "stream",
     "text": [
      "Maximum temperature for each patient: [37.1 37.3]\n"
     ]
    }
   ],
   "source": [
    "#Question 25\n",
    "temperature_data = np.array([\n",
    "    [37.0, 36.5, 37.1, 36.9, 37.0],\n",
    "    [36.8, 37.3, 37.0, 36.7, 37.2]\n",
    "])\n",
    "# Find the maximum temperature for each patient\n",
    "max_temperature = np.max(temperature_data, axis=1)\n",
    "print(\"Maximum temperature for each patient:\", max_temperature)"
   ]
  },
  {
   "cell_type": "markdown",
   "id": "b0b5357d-d304-4989-a13d-55b516414fcb",
   "metadata": {
    "jp-MarkdownHeadingCollapsed": true
   },
   "source": [
    "## Day 2"
   ]
  },
  {
   "cell_type": "markdown",
   "id": "a4400f47-4c8a-468f-a77c-6fa4cb41ab07",
   "metadata": {
    "jp-MarkdownHeadingCollapsed": true
   },
   "source": [
    "#### SERIES"
   ]
  },
  {
   "cell_type": "code",
   "execution_count": 17,
   "id": "00efcf51-809f-4bc3-a5ca-7bd260202faa",
   "metadata": {},
   "outputs": [],
   "source": [
    "import pandas as pd"
   ]
  },
  {
   "cell_type": "code",
   "execution_count": 61,
   "id": "c39eae4b-cf45-49ce-90c2-c8cbe45b34f6",
   "metadata": {},
   "outputs": [
    {
     "name": "stdout",
     "output_type": "stream",
     "text": [
      "maximum BP = 140 \n",
      "minimum BP = 120\n"
     ]
    }
   ],
   "source": [
    "#Question 1\n",
    "bp_readings = pd.Series([120, 130, 140, 135, 125])\n",
    "\n",
    "#Find the maximum and minimum blood pressure values\n",
    "min_bp = bp_readings.min()\n",
    "max_bp = bp_readings.max()\n",
    "print(f'maximum BP = {max_bp} \\nminimum BP = {min_bp}')"
   ]
  },
  {
   "cell_type": "code",
   "execution_count": 26,
   "id": "ffa5e63a-4700-48d3-b603-0a0da97cebfd",
   "metadata": {},
   "outputs": [
    {
     "data": {
      "text/plain": [
       "3    250\n",
       "4    280\n",
       "dtype: int64"
      ]
     },
     "execution_count": 26,
     "metadata": {},
     "output_type": "execute_result"
    }
   ],
   "source": [
    "#Question 2\n",
    "cholestorol_level_s= pd.Series([210, 180, 220, 250, 280, 230])\n",
    "\n",
    "#Filter patients with cholesterol levels above 240\n",
    "cholestorol_level_s[cholestorol_level_s > 240]"
   ]
  },
  {
   "cell_type": "code",
   "execution_count": 27,
   "id": "d6ce033a-e8ab-4c9d-a01a-5b51fb7593cb",
   "metadata": {},
   "outputs": [
    {
     "data": {
      "text/plain": [
       "47.5"
      ]
     },
     "execution_count": 27,
     "metadata": {},
     "output_type": "execute_result"
    }
   ],
   "source": [
    "#Question 3\n",
    "patient_ages = pd.Series([35, 40, 25, 30, 45, 50, 55, 60, 65, 70])\n",
    "\n",
    "#Calculate the median age of the patients\n",
    "patient_ages.median()"
   ]
  },
  {
   "cell_type": "code",
   "execution_count": 29,
   "id": "eabfefa0-a998-44b8-b741-d80bd5383055",
   "metadata": {},
   "outputs": [
    {
     "data": {
      "text/plain": [
       "0    75\n",
       "1    85\n",
       "2    80\n",
       "3    70\n",
       "4    90\n",
       "dtype: int64"
      ]
     },
     "execution_count": 29,
     "metadata": {},
     "output_type": "execute_result"
    }
   ],
   "source": [
    "#Question 4\n",
    "weight = pd.Series([70, 80, 75, 65, 85])\n",
    "\n",
    "#Add 5 kg to each patient’s weight\n",
    "weight += 5\n",
    "weight"
   ]
  },
  {
   "cell_type": "code",
   "execution_count": 30,
   "id": "aa73485f-aa77-4036-b2e6-5d0540e4ffec",
   "metadata": {},
   "outputs": [
    {
     "data": {
      "text/plain": [
       "37.17999999999999"
      ]
     },
     "execution_count": 30,
     "metadata": {},
     "output_type": "execute_result"
    }
   ],
   "source": [
    "#Question 5\n",
    "temp_patient = pd.Series([37.2, 36.8, 37.5, 38.0, 36.6, 37.1, 36.9, 37.3, 37.4, 37.0])\n",
    "\n",
    "#Calculate the average temperature of all 10 patients\n",
    "temp_patient.mean()"
   ]
  },
  {
   "cell_type": "markdown",
   "id": "b7fb54b4-7922-477f-9bc9-88f1fca01989",
   "metadata": {
    "jp-MarkdownHeadingCollapsed": true
   },
   "source": [
    "#### DATAFRAME"
   ]
  },
  {
   "cell_type": "code",
   "execution_count": 39,
   "id": "9a0ead2e-14ad-480b-837a-9669be1cdb70",
   "metadata": {},
   "outputs": [
    {
     "data": {
      "text/html": [
       "<div>\n",
       "<style scoped>\n",
       "    .dataframe tbody tr th:only-of-type {\n",
       "        vertical-align: middle;\n",
       "    }\n",
       "\n",
       "    .dataframe tbody tr th {\n",
       "        vertical-align: top;\n",
       "    }\n",
       "\n",
       "    .dataframe thead th {\n",
       "        text-align: right;\n",
       "    }\n",
       "</style>\n",
       "<table border=\"1\" class=\"dataframe\">\n",
       "  <thead>\n",
       "    <tr style=\"text-align: right;\">\n",
       "      <th></th>\n",
       "      <th>Name</th>\n",
       "      <th>Age</th>\n",
       "      <th>Blood Pressure</th>\n",
       "      <th>Cholesterol</th>\n",
       "    </tr>\n",
       "  </thead>\n",
       "  <tbody>\n",
       "    <tr>\n",
       "      <th>2</th>\n",
       "      <td>Tom</td>\n",
       "      <td>45</td>\n",
       "      <td>140</td>\n",
       "      <td>240</td>\n",
       "    </tr>\n",
       "    <tr>\n",
       "      <th>3</th>\n",
       "      <td>Alice</td>\n",
       "      <td>52</td>\n",
       "      <td>150</td>\n",
       "      <td>260</td>\n",
       "    </tr>\n",
       "  </tbody>\n",
       "</table>\n",
       "</div>"
      ],
      "text/plain": [
       "    Name  Age  Blood Pressure  Cholesterol\n",
       "2    Tom   45             140          240\n",
       "3  Alice   52             150          260"
      ]
     },
     "execution_count": 39,
     "metadata": {},
     "output_type": "execute_result"
    }
   ],
   "source": [
    "#Question 6\n",
    "patient_data1 = {'Name': ['John', 'Jane', 'Tom', 'Alice'],\n",
    "        'Age': [28, 34, 45, 52],\n",
    "        'Blood Pressure': [120, 130, 140, 150],\n",
    "        'Cholesterol': [200, 220, 240, 260]}\n",
    "\n",
    "#Select all patients with cholesterol greater than 220\n",
    "df = pd.DataFrame(patient_data)\n",
    "df[df['Cholesterol']> 220]"
   ]
  },
  {
   "cell_type": "code",
   "execution_count": 64,
   "id": "c13cb2b0-2c79-49b8-9435-15f0ed962109",
   "metadata": {},
   "outputs": [
    {
     "data": {
      "text/html": [
       "<div>\n",
       "<style scoped>\n",
       "    .dataframe tbody tr th:only-of-type {\n",
       "        vertical-align: middle;\n",
       "    }\n",
       "\n",
       "    .dataframe tbody tr th {\n",
       "        vertical-align: top;\n",
       "    }\n",
       "\n",
       "    .dataframe thead th {\n",
       "        text-align: right;\n",
       "    }\n",
       "</style>\n",
       "<table border=\"1\" class=\"dataframe\">\n",
       "  <thead>\n",
       "    <tr style=\"text-align: right;\">\n",
       "      <th></th>\n",
       "      <th>Name</th>\n",
       "      <th>Age</th>\n",
       "      <th>Height (cm)</th>\n",
       "      <th>Weight (kg)</th>\n",
       "      <th>Blood Pressure (mmHg)</th>\n",
       "      <th>BMI</th>\n",
       "    </tr>\n",
       "  </thead>\n",
       "  <tbody>\n",
       "    <tr>\n",
       "      <th>0</th>\n",
       "      <td>Alice</td>\n",
       "      <td>25</td>\n",
       "      <td>165</td>\n",
       "      <td>60</td>\n",
       "      <td>120/80</td>\n",
       "      <td>0.002204</td>\n",
       "    </tr>\n",
       "    <tr>\n",
       "      <th>1</th>\n",
       "      <td>Bob</td>\n",
       "      <td>30</td>\n",
       "      <td>170</td>\n",
       "      <td>70</td>\n",
       "      <td>130/85</td>\n",
       "      <td>0.002422</td>\n",
       "    </tr>\n",
       "    <tr>\n",
       "      <th>2</th>\n",
       "      <td>Charlie</td>\n",
       "      <td>35</td>\n",
       "      <td>175</td>\n",
       "      <td>80</td>\n",
       "      <td>140/90</td>\n",
       "      <td>0.002612</td>\n",
       "    </tr>\n",
       "    <tr>\n",
       "      <th>3</th>\n",
       "      <td>Diana</td>\n",
       "      <td>40</td>\n",
       "      <td>160</td>\n",
       "      <td>55</td>\n",
       "      <td>110/70</td>\n",
       "      <td>0.002148</td>\n",
       "    </tr>\n",
       "  </tbody>\n",
       "</table>\n",
       "</div>"
      ],
      "text/plain": [
       "      Name  Age  Height (cm)  Weight (kg) Blood Pressure (mmHg)       BMI\n",
       "0    Alice   25          165           60                120/80  0.002204\n",
       "1      Bob   30          170           70                130/85  0.002422\n",
       "2  Charlie   35          175           80                140/90  0.002612\n",
       "3    Diana   40          160           55                110/70  0.002148"
      ]
     },
     "execution_count": 64,
     "metadata": {},
     "output_type": "execute_result"
    }
   ],
   "source": [
    "#Question 11\n",
    "patient_info = {\n",
    "    \"Name\": [\"Alice\", \"Bob\", \"Charlie\", \"Diana\"],\n",
    "    \"Age\": [25, 30, 35, 40],\n",
    "    \"Height (cm)\": [165, 170, 175, 160],\n",
    "    \"Weight (kg)\": [60, 70, 80, 55],\n",
    "    \"Blood Pressure (mmHg)\": [\"120/80\", \"130/85\", \"140/90\", \"110/70\"]\n",
    "}\n",
    "patient_info = pd.DataFrame(patient_info)\n",
    "\n",
    "#Calculate BMI using the formula BMI = Weight / (Height^2) (assume height in meters and weight in kilograms)\n",
    "patient_info['BMI'] = patient_info['Weight (kg)']/(patient_info['Height (cm)']**2)\n",
    "\n",
    "patient_info"
   ]
  },
  {
   "cell_type": "code",
   "execution_count": 48,
   "id": "ebfd8738-e097-4a32-a611-86ad4e9e2917",
   "metadata": {},
   "outputs": [
    {
     "data": {
      "text/html": [
       "<div>\n",
       "<style scoped>\n",
       "    .dataframe tbody tr th:only-of-type {\n",
       "        vertical-align: middle;\n",
       "    }\n",
       "\n",
       "    .dataframe tbody tr th {\n",
       "        vertical-align: top;\n",
       "    }\n",
       "\n",
       "    .dataframe thead th {\n",
       "        text-align: right;\n",
       "    }\n",
       "</style>\n",
       "<table border=\"1\" class=\"dataframe\">\n",
       "  <thead>\n",
       "    <tr style=\"text-align: right;\">\n",
       "      <th></th>\n",
       "      <th>Test ID</th>\n",
       "      <th>Patient Name</th>\n",
       "      <th>Result</th>\n",
       "    </tr>\n",
       "  </thead>\n",
       "  <tbody>\n",
       "    <tr>\n",
       "      <th>1</th>\n",
       "      <td>2</td>\n",
       "      <td>Jane</td>\n",
       "      <td>6.1</td>\n",
       "    </tr>\n",
       "    <tr>\n",
       "      <th>3</th>\n",
       "      <td>4</td>\n",
       "      <td>Alice</td>\n",
       "      <td>6.3</td>\n",
       "    </tr>\n",
       "  </tbody>\n",
       "</table>\n",
       "</div>"
      ],
      "text/plain": [
       "   Test ID Patient Name  Result\n",
       "1        2         Jane     6.1\n",
       "3        4        Alice     6.3"
      ]
     },
     "execution_count": 48,
     "metadata": {},
     "output_type": "execute_result"
    }
   ],
   "source": [
    "#Question 12\n",
    "blood_test_result = {'Test ID': [1, 2, 3, 4],\n",
    "                     'Patient Name': ['John', 'Jane', 'Tom', 'Alice'],\n",
    "                     'Result': [5.6, 6.1, 5.8, 6.3]}\n",
    "\n",
    "#Filter patients with a test result greater than 6.0\n",
    "x = pd.DataFrame(blood_test_result)\n",
    "x[x['Result'] > 6]"
   ]
  },
  {
   "cell_type": "code",
   "execution_count": 53,
   "id": "312842d1-6e44-4c53-bafc-66c902dc90ac",
   "metadata": {},
   "outputs": [
    {
     "data": {
      "text/plain": [
       "66.25"
      ]
     },
     "execution_count": 53,
     "metadata": {},
     "output_type": "execute_result"
    }
   ],
   "source": [
    "#Question 16\n",
    "patient_body_metrics = {\n",
    "    \"Patient\": [\"Alice\", \"Bob\", \"Charlie\", \"Diana\"],\n",
    "    \"Age\": [25, 30, 35, 40],\n",
    "    \"Weight (kg)\": [60, 70, 80, 55],\n",
    "    \"Height (cm)\": [165, 170, 175, 160]\n",
    "}\n",
    "patient_df = pd.DataFrame(patient_body_metrics)\n",
    "\n",
    "#Use df.mean() to find the mean of each column\n",
    "average_age = patient_df[\"Age\"].mean()\n",
    "average_height = patient_df[\"Weight (kg)\"].mean()\n",
    "average_weight = patient_df[\"Height (cm)\"].mean()\n"
   ]
  },
  {
   "cell_type": "code",
   "execution_count": 56,
   "id": "5eb85fcd-8e4f-43e1-823e-b2772a64df8e",
   "metadata": {},
   "outputs": [
    {
     "data": {
      "text/html": [
       "<div>\n",
       "<style scoped>\n",
       "    .dataframe tbody tr th:only-of-type {\n",
       "        vertical-align: middle;\n",
       "    }\n",
       "\n",
       "    .dataframe tbody tr th {\n",
       "        vertical-align: top;\n",
       "    }\n",
       "\n",
       "    .dataframe thead th {\n",
       "        text-align: right;\n",
       "    }\n",
       "</style>\n",
       "<table border=\"1\" class=\"dataframe\">\n",
       "  <thead>\n",
       "    <tr style=\"text-align: right;\">\n",
       "      <th></th>\n",
       "      <th>Patient Name</th>\n",
       "      <th>Treatment Type</th>\n",
       "      <th>Treatment Date</th>\n",
       "    </tr>\n",
       "  </thead>\n",
       "  <tbody>\n",
       "    <tr>\n",
       "      <th>0</th>\n",
       "      <td>John</td>\n",
       "      <td>Surgery</td>\n",
       "      <td>2022-01-01</td>\n",
       "    </tr>\n",
       "    <tr>\n",
       "      <th>2</th>\n",
       "      <td>Tom</td>\n",
       "      <td>Surgery</td>\n",
       "      <td>2022-03-01</td>\n",
       "    </tr>\n",
       "  </tbody>\n",
       "</table>\n",
       "</div>"
      ],
      "text/plain": [
       "  Patient Name Treatment Type Treatment Date\n",
       "0         John        Surgery     2022-01-01\n",
       "2          Tom        Surgery     2022-03-01"
      ]
     },
     "execution_count": 56,
     "metadata": {},
     "output_type": "execute_result"
    }
   ],
   "source": [
    "#Question 18\n",
    "data = {'Patient Name': ['John', 'Jane', 'Tom', 'Alice'],\n",
    "        'Treatment Type': ['Surgery', 'Consultation', 'Surgery', 'Consultation'],\n",
    "        'Treatment Date': ['2022-01-01', '2022-02-01', '2022-03-01', '2022-04-01']}\n",
    "\n",
    "patient_treatment = pd.DataFrame(data)\n",
    "\n",
    "#Find all records where the treatment type is \"Surgery\"\n",
    "patient_treatment[patient_treatment['Treatment Type'] == 'Surgery']"
   ]
  },
  {
   "cell_type": "code",
   "execution_count": null,
   "id": "f0b5d26d-fa80-48fe-ab61-c32e7566034b",
   "metadata": {},
   "outputs": [],
   "source": []
  }
 ],
 "metadata": {
  "kernelspec": {
   "display_name": "Python 3 (ipykernel)",
   "language": "python",
   "name": "python3"
  },
  "language_info": {
   "codemirror_mode": {
    "name": "ipython",
    "version": 3
   },
   "file_extension": ".py",
   "mimetype": "text/x-python",
   "name": "python",
   "nbconvert_exporter": "python",
   "pygments_lexer": "ipython3",
   "version": "3.11.7"
  }
 },
 "nbformat": 4,
 "nbformat_minor": 5
}
